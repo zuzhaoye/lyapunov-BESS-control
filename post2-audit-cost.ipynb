{
 "cells": [
  {
   "cell_type": "code",
   "execution_count": 2,
   "metadata": {},
   "outputs": [],
   "source": [
    "import os\n",
    "import time\n",
    "import numpy as np\n",
    "import pandas as pd\n",
    "from datetime import datetime, timedelta\n",
    "\n",
    "from settings import *"
   ]
  },
  {
   "cell_type": "markdown",
   "metadata": {},
   "source": [
    "### Specify input"
   ]
  },
  {
   "cell_type": "code",
   "execution_count": 7,
   "metadata": {},
   "outputs": [],
   "source": [
    "## 15-min load data with BESS\n",
    "path_input = os.path.join(\"results\", f\"load_with_BESS_15min.csv\")\n",
    "with_BESS = True\n",
    "\n",
    "## 15-min load data without BESS\n",
    "# path_input = os.path.join(\"results\", f\"load_without_BESS_15min.csv\")\n",
    "# with_BESS = False\n",
    "\n",
    "# Change the start and end dates based on the data file\n",
    "myd_start = \"2022-05-31\"\n",
    "myd_end = \"2022-06-01\""
   ]
  },
  {
   "cell_type": "markdown",
   "metadata": {},
   "source": [
    "### Read 15-min loads"
   ]
  },
  {
   "cell_type": "code",
   "execution_count": 8,
   "metadata": {},
   "outputs": [],
   "source": [
    "data = pd.read_csv(path_input)\n",
    "   \n",
    "dts = np.array(data['datetime'])\n",
    "solar_loads = np.array(data['solar_load'])\n",
    "building_loads = np.array(data['building_load'])\n",
    "if with_BESS:\n",
    "    BESS_outputs = np.array(data['BESS_output'])\n",
    "else:\n",
    "    BESS_outputs = np.zeros(len(data))\n",
    "net_loads = building_loads - solar_loads - BESS_outputs\n",
    "\n",
    "billing_interval = timedelta(minutes = 15)\n",
    "billing_interval_hour = billing_interval.seconds/3600"
   ]
  },
  {
   "cell_type": "markdown",
   "metadata": {},
   "source": [
    "### Run through each time step and record itemized costs"
   ]
  },
  {
   "cell_type": "code",
   "execution_count": 9,
   "metadata": {},
   "outputs": [],
   "source": [
    "N = len(dts)\n",
    "coste = {\"Super Off-Peak\": 0, \"Off-Peak\": 0, \"On-Peak\": 0}\n",
    "costd = {\"On-Peak\": 0, \"Non-Coincident\": 0, \"Generation\": 0}\n",
    "costE = {\"Summer\": coste.copy(), \"Winter\": coste.copy()}\n",
    "costD = {\"Summer\": costd.copy(), \"Winter\": costd.copy()}\n",
    "p_peaks = {\"Summer\": costd.copy(), \"Winter\": costd.copy()}\n",
    "time_count = {\"Summer\": 0, \"Winter\": 0}\n",
    "\n",
    "for i in range(N):\n",
    "    dt = datetime.strptime(dts[i], \"%Y%m%d-%H%M%S\")\n",
    "    \n",
    "    # Determine weekday\n",
    "    if dt.weekday() in [0, 1, 2, 3, 4]:\n",
    "        # Determine month\n",
    "        if dt.month in [3, 4]:\n",
    "            peakHourTable = peakHourTable_weekdayMarApr\n",
    "        else:\n",
    "            peakHourTable = peakHourTable_weekday\n",
    "    else:\n",
    "        peakHourTable = peakHourTable_weekend\n",
    "    \n",
    "    # Determine season\n",
    "    if dt.month in summerMonths:\n",
    "        season = \"Summer\"\n",
    "        energyChargeRef = energyChargeRef_Summer\n",
    "        demandChargeRef = demandChargeRef_Summer\n",
    "    else:\n",
    "        season = \"Winter\"\n",
    "        energyChargeRef = energyChargeRef_Winter\n",
    "        demandChargeRef = demandChargeRef_Winter\n",
    "    time_count[season] += 1\n",
    "    \n",
    "    # Get energy charge and demand charge at t\n",
    "    peak_indicator = peakHourTable[dt.hour]\n",
    "    peak_phase = peakNames[peak_indicator]\n",
    "    ce = energyChargeRef[peak_indicator]\n",
    "    costE[season][peak_phase] += ce * net_loads[i] * billing_interval_hour\n",
    "    \n",
    "    # Update peak loads\n",
    "    if net_loads[i] > p_peaks[season][\"Non-Coincident\"]:\n",
    "        p_peaks[season][\"Non-Coincident\"] = net_loads[i]\n",
    "    if peak_phase == \"On-Peak\":\n",
    "        if net_loads[i] > p_peaks[season][\"On-Peak\"]:\n",
    "            p_peaks[season][\"On-Peak\"] = net_loads[i]\n",
    "\n",
    "# Calculate various demand charges at the end of the billing period\n",
    "for season in p_peaks.keys():\n",
    "    p_peaks[season][\"Non-Coincident\"] = max(p_peaks[\"Summer\"][\"Non-Coincident\"], p_peaks[\"Winter\"][\"Non-Coincident\"])\n",
    "    p_peaks[season][\"Generation\"] = p_peaks[season][\"Non-Coincident\"]\n",
    "    \n",
    "cds = {\"Summer\": {\"On-Peak\": cd_OnPeak_Summer,\\\n",
    "                  \"Non-Coincident\": cd_NonCoincident_Summer,\\\n",
    "                  \"Generation\": cd_Generation_Summer},\n",
    "       \"Winter\": {\"On-Peak\": cd_OnPeak_Winter,\\\n",
    "                  \"Non-Coincident\": cd_NonCoincident_Winter,\\\n",
    "                  \"Generation\": cd_Generation_Winter}}\n",
    "for season in costD.keys():\n",
    "    ratio = time_count[season]/(time_count[\"Summer\"] + time_count[\"Winter\"])\n",
    "    for typ in costD[season].keys():\n",
    "        costD[season][typ] = cds[season][typ] * p_peaks[season][typ] * ratio"
   ]
  },
  {
   "cell_type": "markdown",
   "metadata": {},
   "source": [
    "### Calculate total energy charge and demand charge"
   ]
  },
  {
   "cell_type": "code",
   "execution_count": 10,
   "metadata": {},
   "outputs": [
    {
     "name": "stdout",
     "output_type": "stream",
     "text": [
      "2022-05-31, 2022-06-01\n",
      "Energy Charge: 41.75871621869415\n",
      "Demand Charge: 2189.355879263023\n",
      "Total Charge: 2231.114595481717\n"
     ]
    }
   ],
   "source": [
    "energyCharge = 0\n",
    "for season in costE.keys():\n",
    "    for peak_phase in costE[season].keys():\n",
    "        energyCharge += costE[season][peak_phase]\n",
    "        \n",
    "demandCharge = 0\n",
    "for season in costD.keys():\n",
    "    for typ in costD[season].keys():\n",
    "        demandCharge += costD[season][typ]\n",
    "\n",
    "print(f\"{myd_start}, {myd_end}\")\n",
    "print(f\"Energy Charge: {energyCharge}\")\n",
    "print(f\"Demand Charge: {demandCharge}\")\n",
    "print(f\"Total Charge: {energyCharge + demandCharge}\")"
   ]
  }
 ],
 "metadata": {
  "kernelspec": {
   "display_name": "Python 3",
   "language": "python",
   "name": "python3"
  },
  "language_info": {
   "codemirror_mode": {
    "name": "ipython",
    "version": 3
   },
   "file_extension": ".py",
   "mimetype": "text/x-python",
   "name": "python",
   "nbconvert_exporter": "python",
   "pygments_lexer": "ipython3",
   "version": "3.8.8"
  }
 },
 "nbformat": 4,
 "nbformat_minor": 4
}
