{
 "cells": [
  {
   "cell_type": "markdown",
   "metadata": {},
   "source": [
    "This module is used to calculate the actual energy and demand charges"
   ]
  },
  {
   "cell_type": "code",
   "execution_count": 1,
   "metadata": {},
   "outputs": [],
   "source": [
    "import os\n",
    "import time\n",
    "import numpy as np\n",
    "import pandas as pd\n",
    "import matplotlib.pyplot as plt \n",
    "from datetime import datetime, timedelta\n",
    "\n",
    "from settings import *"
   ]
  },
  {
   "cell_type": "markdown",
   "metadata": {},
   "source": [
    "#### Load data and extract time series of solar power and building load"
   ]
  },
  {
   "cell_type": "code",
   "execution_count": 5,
   "metadata": {},
   "outputs": [],
   "source": [
    "path_res = os.path.join(\"results\", f\"load_with_BESS_15min.csv\")\n",
    "data = pd.read_csv(path_res)\n",
    "   \n",
    "dts = np.array(data['datetime'])\n",
    "PSs = np.array(data['solar_power'])\n",
    "LBs = np.array(data['building_load'])\n",
    "BESS_outputs = np.array(data['BESS_output'])\n",
    "\n",
    "net_loads_original = LBs - PSs\n",
    "net_loads = LBs - PSs - BESS_outputs\n",
    "\n",
    "# define start and end date, as well as the target aggregation time interval\n",
    "myd_start = \"2022-05-31\"\n",
    "myd_end = \"2022-06-01\"\n",
    "dt_start = datetime.strptime(f\"{myd_start} 00:00:00\", \"%Y-%m-%d %H:%M:%S\")\n",
    "dt_end = datetime.strptime(f\"{myd_end} 23:59:59\", \"%Y-%m-%d %H:%M:%S\")\n",
    "billing_interval = timedelta(minutes = 15)\n",
    "billing_interval_hour = billing_interval.seconds/3600"
   ]
  },
  {
   "cell_type": "markdown",
   "metadata": {},
   "source": [
    "#### Visualize the load w/ and w/o BESS"
   ]
  },
  {
   "cell_type": "code",
   "execution_count": 6,
   "metadata": {},
   "outputs": [
    {
     "data": {
      "image/png": "[encoded data removed]",
      "text/plain": [
       "<Figure size 864x216 with 1 Axes>"
      ]
     },
     "metadata": {
      "needs_background": "light"
     },
     "output_type": "display_data"
    }
   ],
   "source": [
    "import matplotlib.pyplot as plt\n",
    "import matplotlib.dates as mdates\n",
    "from matplotlib.dates import DateFormatter\n",
    "\n",
    "fig = plt.figure(figsize = (12,3))\n",
    "ax = fig.add_subplot(111)\n",
    "\n",
    "dates = pd.to_datetime(dts)\n",
    "ax.plot(dates, net_loads_original, label = \"Load w/o BESS\")\n",
    "ax.plot(dates, net_loads, label = \"Load w/ BESS\")\n",
    "ax.set_xlabel('Date', fontsize = 12)\n",
    "ax.set_ylabel('Load (kW)', fontsize = 12)\n",
    "ax.legend(loc = 'lower right')\n",
    "\n",
    "date_form = DateFormatter(\"%m-%d\")\n",
    "ax.xaxis.set_major_formatter(date_form)\n",
    "\n",
    "#fig.savefig(\"imgs/load_compare.svg\")"
   ]
  },
  {
   "cell_type": "markdown",
   "metadata": {},
   "source": [
    "#### Cost audit"
   ]
  },
  {
   "cell_type": "code",
   "execution_count": 7,
   "metadata": {},
   "outputs": [
    {
     "name": "stdout",
     "output_type": "stream",
     "text": [
      "2022-05-31, 2022-06-01\n",
      "Energy Charge: 74.19602356375782 (w/o BESS), 79.52615942082573 (w/ BESS)\n",
      "Demand Charge: 2861.007971769218 (w/o BESS), 1584.3750000000362 (w/ BESS)\n",
      "Total Charge: 2935.203995332976 (w/o BESS), 1663.9011594208619 (w/ BESS)\n"
     ]
    }
   ],
   "source": [
    "dict_net_loads = {\"wo BESS\": LBs - PSs,\n",
    "                  \"w BESS\": LBs - PSs - BESS_outputs}\n",
    "recorder = {}\n",
    "N = len(dts)\n",
    "\n",
    "for load_type in dict_net_loads.keys():\n",
    "    net_loads = dict_net_loads[load_type]\n",
    "\n",
    "    coste = {\"Super Off-Peak\": 0, \"Off-Peak\": 0, \"On-Peak\": 0}\n",
    "    costd = {\"On-Peak\": 0, \"Non-Coincident\": 0, \"Generation\": 0}\n",
    "    costE = {\"Summer\": coste.copy(), \"Winter\": coste.copy()}\n",
    "    costD = {\"Summer\": costd.copy(), \"Winter\": costd.copy()}\n",
    "    p_peaks = {\"Summer\": costd.copy(), \"Winter\": costd.copy()}\n",
    "    time_count = {\"Summer\": 0, \"Winter\": 0}\n",
    "\n",
    "    for i in range(N):\n",
    "        dt = datetime.strptime(dts[i], \"%Y%m%d-%H%M%S\")\n",
    "\n",
    "        # Determine weekday\n",
    "        if dt.weekday() in [0, 1, 2, 3, 4]:\n",
    "            # Determine month\n",
    "            if dt.month in [3, 4]:\n",
    "                peakHourTable = peakHourTable_weekdayMarApr\n",
    "            else:\n",
    "                peakHourTable = peakHourTable_weekday\n",
    "        else:\n",
    "            peakHourTable = peakHourTable_weekend\n",
    "\n",
    "        # Determine season\n",
    "        if dt.month in summerMonths:\n",
    "            season = \"Summer\"\n",
    "            energyChargeRef = energyChargeRef_Summer\n",
    "            demandChargeRef = demandChargeRef_Summer\n",
    "        else:\n",
    "            season = \"Winter\"\n",
    "            energyChargeRef = energyChargeRef_Winter\n",
    "            demandChargeRef = demandChargeRef_Winter\n",
    "        time_count[season] += 1\n",
    "\n",
    "        # Get energy charge and demand charge at t\n",
    "        peak_indicator = peakHourTable[dt.hour]\n",
    "        peak_phase = peakNames[peak_indicator]\n",
    "        ce = energyChargeRef[peak_indicator]\n",
    "        costE[season][peak_phase] += ce * net_loads[i] * billing_interval_hour\n",
    "\n",
    "        if net_loads[i] > p_peaks[season][\"Non-Coincident\"]:\n",
    "            p_peaks[season][\"Non-Coincident\"] = net_loads[i]\n",
    "        if peak_phase == \"On-Peak\":\n",
    "            if net_loads[i] > p_peaks[season][\"On-Peak\"]:\n",
    "                p_peaks[season][\"On-Peak\"] = net_loads[i]\n",
    "\n",
    "    for season in p_peaks.keys():\n",
    "        p_peaks[season][\"Non-Coincident\"] = max(p_peaks[\"Summer\"][\"Non-Coincident\"], p_peaks[\"Winter\"][\"Non-Coincident\"])\n",
    "        p_peaks[season][\"Generation\"] = p_peaks[season][\"Non-Coincident\"]\n",
    "\n",
    "    cds = {\"Summer\": {\"On-Peak\": cd_OnPeak_Summer,\\\n",
    "                      \"Non-Coincident\": cd_NonCoincident_Summer,\\\n",
    "                      \"Generation\": cd_Generation_Summer},\n",
    "           \"Winter\": {\"On-Peak\": cd_OnPeak_Winter,\\\n",
    "                      \"Non-Coincident\": cd_NonCoincident_Winter,\\\n",
    "                      \"Generation\": cd_Generation_Winter}}\n",
    "    for season in costD.keys():\n",
    "        ratio = time_count[season]/(time_count[\"Summer\"] + time_count[\"Winter\"])\n",
    "        for typ in costD[season].keys():\n",
    "            costD[season][typ] = cds[season][typ] * p_peaks[season][typ] * ratio\n",
    "\n",
    "    energyCharge = 0\n",
    "    for season in costE.keys():\n",
    "        for peak_phase in costE[season].keys():\n",
    "            energyCharge += costE[season][peak_phase]\n",
    "\n",
    "    demandCharge = 0\n",
    "    for season in costD.keys():\n",
    "        for typ in costD[season].keys():\n",
    "            demandCharge += costD[season][typ]\n",
    "\n",
    "    recorder[load_type] = {}\n",
    "    recorder[load_type][\"EnergyCharge\"] = energyCharge\n",
    "    recorder[load_type][\"DemandCharge\"] = demandCharge\n",
    "    recorder[load_type][\"TotalCharge\"] = energyCharge + demandCharge\n",
    "\n",
    "\n",
    "# Output results\n",
    "#save_obj(recorder, f\"costs-{myd_start}-to-{myd_end}-Vp{V_PEAK}-Vnp{V_NONPEAK}\")\n",
    "\n",
    "cewo, cew = recorder[\"wo BESS\"][\"EnergyCharge\"], recorder[\"w BESS\"][\"EnergyCharge\"]\n",
    "cdwo, cdw = recorder[\"wo BESS\"][\"DemandCharge\"], recorder[\"w BESS\"][\"DemandCharge\"]\n",
    "cwo, cw = recorder[\"wo BESS\"][\"TotalCharge\"], recorder[\"w BESS\"][\"TotalCharge\"]\n",
    "print(f\"{myd_start}, {myd_end}\")\n",
    "print(f\"Energy Charge: {cewo} (w/o BESS), {cew} (w/ BESS)\")\n",
    "print(f\"Demand Charge: {cdwo} (w/o BESS), {cdw} (w/ BESS)\")\n",
    "print(f\"Total Charge: {cwo} (w/o BESS), {cw} (w/ BESS)\")"
   ]
  },
  {
   "cell_type": "code",
   "execution_count": null,
   "metadata": {},
   "outputs": [],
   "source": []
  }
 ],
 "metadata": {
  "kernelspec": {
   "display_name": "Python 3",
   "language": "python",
   "name": "python3"
  },
  "language_info": {
   "codemirror_mode": {
    "name": "ipython",
    "version": 3
   },
   "file_extension": ".py",
   "mimetype": "text/x-python",
   "name": "python",
   "nbconvert_exporter": "python",
   "pygments_lexer": "ipython3",
   "version": "3.8.8"
  }
 },
 "nbformat": 4,
 "nbformat_minor": 4
}
