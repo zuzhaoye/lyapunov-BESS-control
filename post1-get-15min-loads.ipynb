{
 "cells": [
  {
   "cell_type": "code",
   "execution_count": 2,
   "metadata": {},
   "outputs": [],
   "source": [
    "import os\n",
    "import numpy as np\n",
    "import pandas as pd\n",
    "from datetime import datetime, timedelta"
   ]
  },
  {
   "cell_type": "markdown",
   "metadata": {},
   "source": [
    "### Specify input and output"
   ]
  },
  {
   "cell_type": "code",
   "execution_count": 9,
   "metadata": {},
   "outputs": [],
   "source": [
    "# Specify input and output for the data with BESS\n",
    "path_input = os.path.join(\"results\", f\"load_with_BESS.csv\")\n",
    "path_output = os.path.join(\"results\", f\"load_with_BESS_15min.csv\")\n",
    "with_BESS = True\n",
    "\n",
    "# path_input = os.path.join(\"data\", f\"sample_data.csv\")\n",
    "# path_output = os.path.join(\"results\", f\"load_without_BESS_15min.csv\")\n",
    "# with_BESS = False\n",
    "\n",
    "# Change the start and end dates based on the data file\n",
    "myd_start = \"2022-05-31\"\n",
    "myd_end = \"2022-06-01\""
   ]
  },
  {
   "cell_type": "markdown",
   "metadata": {},
   "source": [
    "### Load data with intervals of 1 second"
   ]
  },
  {
   "cell_type": "code",
   "execution_count": 10,
   "metadata": {},
   "outputs": [],
   "source": [
    "data = pd.read_csv(path_input)\n",
    "\n",
    "dts = np.array(data['datetime'])\n",
    "solar_loads = np.array(data['solar_load'])\n",
    "building_loads = np.array(data['building_load'])\n",
    "if with_BESS:\n",
    "    BESS_outputs = np.array(data['BESS_output'])\n",
    "else:\n",
    "    BESS_outputs = np.zeros(len(data))\n",
    "    \n",
    "dt_start = datetime.strptime(f\"{myd_start} 00:00:00\", \"%Y-%m-%d %H:%M:%S\")\n",
    "dt_end = datetime.strptime(f\"{myd_end} 23:59:59\", \"%Y-%m-%d %H:%M:%S\")\n",
    "billing_interval = timedelta(minutes = 15)"
   ]
  },
  {
   "cell_type": "markdown",
   "metadata": {},
   "source": [
    "### Get 15-min loads"
   ]
  },
  {
   "cell_type": "code",
   "execution_count": 11,
   "metadata": {},
   "outputs": [
    {
     "name": "stdout",
     "output_type": "stream",
     "text": [
      "0 2022-05-31 00:00:00\n",
      "10000 2022-05-31 02:47:52\n",
      "20000 2022-05-31 05:35:35\n",
      "30000 2022-05-31 08:23:16\n",
      "40000 2022-05-31 11:11:10\n",
      "50000 2022-05-31 13:59:04\n",
      "60000 2022-05-31 16:46:50\n",
      "70000 2022-05-31 19:34:45\n",
      "80000 2022-05-31 22:22:26\n",
      "90000 2022-06-01 01:28:03\n",
      "100000 2022-06-01 04:15:55\n",
      "110000 2022-06-01 07:03:47\n",
      "120000 2022-06-01 09:51:35\n",
      "130000 2022-06-01 12:39:22\n",
      "140000 2022-06-01 15:27:11\n",
      "150000 2022-06-01 18:15:08\n",
      "160000 2022-06-01 21:03:01\n",
      "170000 2022-06-01 23:50:57\n",
      "Finished\n"
     ]
    }
   ],
   "source": [
    "time_window = [dt_start, dt_start + billing_interval]\n",
    "\n",
    "solar_load_window = []\n",
    "building_load_window = []\n",
    "BESS_output_window = []\n",
    "\n",
    "solar_loads_15min = []\n",
    "building_loads_15min = []\n",
    "BESS_outputs_15min = []\n",
    "time_points_15min = []\n",
    "\n",
    "N = len(dts)\n",
    "\n",
    "for i in range(N):\n",
    "    dt = datetime.strptime(dts[i], \"%Y%m%d-%H%M%S\")\n",
    "    if i+1 < N:\n",
    "        dt_next = datetime.strptime(dts[i+1], \"%Y%m%d-%H%M%S\")\n",
    "    else:\n",
    "        dt_next = dt_end + timedelta(seconds = 1)\n",
    "    \n",
    "    # If current time within the specified 15-min time window, record the values\n",
    "    if dt >= time_window[0] and dt < time_window[1]:\n",
    "        solar_load_window.append(solar_loads[i])\n",
    "        building_load_window.append(building_loads[i])\n",
    "        BESS_output_window.append(BESS_outputs[i])\n",
    "    \n",
    "    # If current time run out of the window, calculate the mean of the previous window and update the window\n",
    "    if dt_next >= time_window[1]:\n",
    "        time_window_0_str = datetime.strftime(time_window[0], \"%Y%m%d-%H%M%S\")\n",
    "        time_points_15min.append(time_window_0_str)\n",
    "        \n",
    "        # If accidently we don't have any data for 15 minutes or longer, we still proceed but a check on the data is necessary\n",
    "        if len(solar_load_window) == 0:\n",
    "            time_window[0] = time_window[1]\n",
    "            time_window[1] += billing_interval\n",
    "            print(\"Check data\")\n",
    "            continue\n",
    "            \n",
    "        solar_load = np.mean(solar_load_window)\n",
    "        building_load = np.mean(building_load_window)\n",
    "        BESS_output = np.mean(BESS_output_window)\n",
    "        \n",
    "        solar_loads_15min.append(solar_load)\n",
    "        building_loads_15min.append(building_load)\n",
    "        BESS_outputs_15min.append(BESS_output)\n",
    "        \n",
    "        # Update time window and data bins\n",
    "        time_window[0] = time_window[1]\n",
    "        time_window[1] += billing_interval\n",
    "        solar_load_window = []\n",
    "        building_load_window = []\n",
    "        BESS_output_window = []\n",
    "    \n",
    "    if i % 10000 == 0:\n",
    "        print(i, dt)\n",
    "print(\"Finished\")"
   ]
  },
  {
   "cell_type": "markdown",
   "metadata": {},
   "source": [
    "### Export 15-min loads"
   ]
  },
  {
   "cell_type": "code",
   "execution_count": 12,
   "metadata": {},
   "outputs": [],
   "source": [
    "info_export = {'datetime': time_points_15min,\\\n",
    "               'solar_load': solar_loads_15min,\\\n",
    "               'building_load': building_loads_15min,\\\n",
    "               'BESS_output': BESS_outputs_15min}\n",
    "df = pd.DataFrame(info_export)\n",
    "df.to_csv(path_output)"
   ]
  },
  {
   "cell_type": "code",
   "execution_count": null,
   "metadata": {},
   "outputs": [],
   "source": []
  }
 ],
 "metadata": {
  "kernelspec": {
   "display_name": "Python 3",
   "language": "python",
   "name": "python3"
  },
  "language_info": {
   "codemirror_mode": {
    "name": "ipython",
    "version": 3
   },
   "file_extension": ".py",
   "mimetype": "text/x-python",
   "name": "python",
   "nbconvert_exporter": "python",
   "pygments_lexer": "ipython3",
   "version": "3.8.8"
  }
 },
 "nbformat": 4,
 "nbformat_minor": 4
}
