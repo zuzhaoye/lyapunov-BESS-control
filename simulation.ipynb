{
 "cells": [
  {
   "cell_type": "code",
   "execution_count": 1,
   "id": "a29bc642",
   "metadata": {},
   "outputs": [],
   "source": [
    "import os\n",
    "import numpy as np\n",
    "import pandas as pd\n",
    "from datetime import datetime, timedelta\n",
    "\n",
    "from settings import *\n",
    "from lo_step import lo_step"
   ]
  },
  {
   "cell_type": "markdown",
   "id": "f2159d8f",
   "metadata": {},
   "source": [
    "### Load sample data\n",
    "The sample data has a time interval of 1 second"
   ]
  },
  {
   "cell_type": "code",
   "execution_count": 2,
   "id": "d3c548ea",
   "metadata": {},
   "outputs": [
    {
     "data": {
      "text/html": [
       "<div>\n",
       "<style scoped>\n",
       "    .dataframe tbody tr th:only-of-type {\n",
       "        vertical-align: middle;\n",
       "    }\n",
       "\n",
       "    .dataframe tbody tr th {\n",
       "        vertical-align: top;\n",
       "    }\n",
       "\n",
       "    .dataframe thead th {\n",
       "        text-align: right;\n",
       "    }\n",
       "</style>\n",
       "<table border=\"1\" class=\"dataframe\">\n",
       "  <thead>\n",
       "    <tr style=\"text-align: right;\">\n",
       "      <th></th>\n",
       "      <th>Unnamed: 0</th>\n",
       "      <th>datetime</th>\n",
       "      <th>solar_load</th>\n",
       "      <th>building_load</th>\n",
       "    </tr>\n",
       "  </thead>\n",
       "  <tbody>\n",
       "    <tr>\n",
       "      <th>0</th>\n",
       "      <td>513189</td>\n",
       "      <td>20220531-000000</td>\n",
       "      <td>-0.0</td>\n",
       "      <td>22.838876</td>\n",
       "    </tr>\n",
       "    <tr>\n",
       "      <th>1</th>\n",
       "      <td>513190</td>\n",
       "      <td>20220531-000001</td>\n",
       "      <td>-0.0</td>\n",
       "      <td>24.012708</td>\n",
       "    </tr>\n",
       "    <tr>\n",
       "      <th>2</th>\n",
       "      <td>513191</td>\n",
       "      <td>20220531-000002</td>\n",
       "      <td>-0.0</td>\n",
       "      <td>23.201554</td>\n",
       "    </tr>\n",
       "    <tr>\n",
       "      <th>3</th>\n",
       "      <td>513192</td>\n",
       "      <td>20220531-000003</td>\n",
       "      <td>-0.0</td>\n",
       "      <td>22.433628</td>\n",
       "    </tr>\n",
       "    <tr>\n",
       "      <th>4</th>\n",
       "      <td>513193</td>\n",
       "      <td>20220531-000004</td>\n",
       "      <td>-0.0</td>\n",
       "      <td>22.718627</td>\n",
       "    </tr>\n",
       "  </tbody>\n",
       "</table>\n",
       "</div>"
      ],
      "text/plain": [
       "   Unnamed: 0         datetime  solar_load  building_load\n",
       "0      513189  20220531-000000        -0.0      22.838876\n",
       "1      513190  20220531-000001        -0.0      24.012708\n",
       "2      513191  20220531-000002        -0.0      23.201554\n",
       "3      513192  20220531-000003        -0.0      22.433628\n",
       "4      513193  20220531-000004        -0.0      22.718627"
      ]
     },
     "execution_count": 2,
     "metadata": {},
     "output_type": "execute_result"
    }
   ],
   "source": [
    "path_input = os.path.join(\"data\", \"sample_data.csv\")\n",
    "path_output = os.path.join(\"results\", f\"load_with_BESS.csv\")\n",
    "data = pd.read_csv(path_input)\n",
    "data.head()"
   ]
  },
  {
   "cell_type": "markdown",
   "id": "f3aa4749",
   "metadata": {},
   "source": [
    "### Extract time series of solar power and building load"
   ]
  },
  {
   "cell_type": "code",
   "execution_count": 7,
   "id": "7bb13215",
   "metadata": {},
   "outputs": [],
   "source": [
    "dts = np.array(data['datetime'])\n",
    "solar_loads = np.array(data['solar_load'])\n",
    "building_loads = np.array(data['building_load'])\n",
    "N = len(dts) # Total time steps"
   ]
  },
  {
   "cell_type": "markdown",
   "id": "9d172e25",
   "metadata": {},
   "source": [
    "### Initialize parameters"
   ]
  },
  {
   "cell_type": "code",
   "execution_count": 8,
   "id": "eab12bfd",
   "metadata": {},
   "outputs": [],
   "source": [
    "Ppeak = 0 # Initialize peak power\n",
    "SoC = 0.5 # Initialize SoC of the BESS\n",
    "SoCs = [SoC] # Initialize SoC time series\n",
    "BESS_outputs = [] # Initialize BESS time series\n",
    "Qs = []"
   ]
  },
  {
   "cell_type": "markdown",
   "id": "000326f9",
   "metadata": {},
   "source": [
    "### Simulation"
   ]
  },
  {
   "cell_type": "code",
   "execution_count": 9,
   "id": "3c97809d",
   "metadata": {},
   "outputs": [
    {
     "name": "stdout",
     "output_type": "stream",
     "text": [
      "0 2022-05-31 00:00:00\n",
      "10000 2022-05-31 02:47:52\n",
      "20000 2022-05-31 05:35:35\n",
      "30000 2022-05-31 08:23:16\n",
      "40000 2022-05-31 11:11:10\n",
      "50000 2022-05-31 13:59:04\n",
      "60000 2022-05-31 16:46:50\n",
      "70000 2022-05-31 19:34:45\n",
      "80000 2022-05-31 22:22:26\n",
      "90000 2022-06-01 01:28:03\n",
      "100000 2022-06-01 04:15:55\n",
      "110000 2022-06-01 07:03:47\n",
      "120000 2022-06-01 09:51:35\n",
      "130000 2022-06-01 12:39:22\n",
      "140000 2022-06-01 15:27:11\n",
      "150000 2022-06-01 18:15:08\n",
      "160000 2022-06-01 21:03:01\n",
      "170000 2022-06-01 23:50:57\n",
      "Finished\n"
     ]
    }
   ],
   "source": [
    "for i in range(N):\n",
    "    dt = datetime.strptime(dts[i], \"%Y%m%d-%H%M%S\")\n",
    "    \n",
    "    # Determine weekday\n",
    "    if dt.weekday() in [0, 1, 2, 3, 4]:\n",
    "        # Determine month\n",
    "        if dt.month in [3, 4]:\n",
    "            peakHourTable = peakHourTable_weekdayMarApr\n",
    "        else:\n",
    "            peakHourTable = peakHourTable_weekday\n",
    "    else:\n",
    "        peakHourTable = peakHourTable_weekend\n",
    "    \n",
    "    # Determine season\n",
    "    if dt.month in summerMonths:\n",
    "        energyChargeRef = energyChargeRef_Summer\n",
    "        demandChargeRef = demandChargeRef_Summer\n",
    "    else:\n",
    "        energyChargeRef = energyChargeRef_Winter\n",
    "        demandChargeRef = demandChargeRef_Winter\n",
    "    \n",
    "    # Get energy charge and demand charge at t\n",
    "    peak_indicator = peakHourTable[dt.hour]\n",
    "    pE = energyChargeRef[peak_indicator]\n",
    "    pF = pE # net-metering\n",
    "    pD = demandChargeRef[peak_indicator]\n",
    "    V = VsTable[peak_indicator]\n",
    "    \n",
    "    # Get BESS output\n",
    "    LB = building_loads[i]\n",
    "    PS = solar_loads[i]\n",
    "    x = lo_step(LB, PS, Ppeak, SoC, pE, pF, pD, V, DT)\n",
    "    BESS_outputs.append(x)\n",
    "    \n",
    "    # Update SoC and Ppeak\n",
    "    E = SoC*E_FULL - x*DT - abs(x)*DT*(1-sqrt(K))\n",
    "    SoC = E/E_FULL\n",
    "    SoCs.append(SoC)\n",
    "    Ppeak = max(Ppeak, LB-PS-x)\n",
    "    \n",
    "    Q = E_MAX - SoC*E_FULL - DT*P_MAX*sqrt(K)\n",
    "    Qs.append(Q)\n",
    "    \n",
    "    if i % 10000 == 0:\n",
    "        print(i, dt)\n",
    "print(\"Finished\")"
   ]
  },
  {
   "cell_type": "markdown",
   "id": "f88c9ee9",
   "metadata": {},
   "source": [
    "### Output results"
   ]
  },
  {
   "cell_type": "code",
   "execution_count": 10,
   "id": "4e42b8d2",
   "metadata": {},
   "outputs": [],
   "source": [
    "info_export = {'datetime': dts,\\\n",
    "               'solar_load': solar_loads,\\\n",
    "               'building_load': building_loads,\\\n",
    "               'BESS_output': BESS_outputs}\n",
    "df = pd.DataFrame(info_export)\n",
    "df.to_csv(path_output)"
   ]
  },
  {
   "cell_type": "code",
   "execution_count": null,
   "id": "e25c41d7",
   "metadata": {},
   "outputs": [],
   "source": []
  }
 ],
 "metadata": {
  "kernelspec": {
   "display_name": "Python 3",
   "language": "python",
   "name": "python3"
  },
  "language_info": {
   "codemirror_mode": {
    "name": "ipython",
    "version": 3
   },
   "file_extension": ".py",
   "mimetype": "text/x-python",
   "name": "python",
   "nbconvert_exporter": "python",
   "pygments_lexer": "ipython3",
   "version": "3.8.8"
  }
 },
 "nbformat": 4,
 "nbformat_minor": 5
}
